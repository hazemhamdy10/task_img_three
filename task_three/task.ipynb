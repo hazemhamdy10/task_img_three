{
 "cells": [
  {
   "cell_type": "code",
   "execution_count": 2,
   "metadata": {},
   "outputs": [],
   "source": [
    "import cv2 \n",
    "import numpy as np \n",
    "import matplotlib.pyplot as plt "
   ]
  },
  {
   "cell_type": "code",
   "execution_count": 23,
   "metadata": {},
   "outputs": [
    {
     "data": {
      "text/plain": [
       "True"
      ]
     },
     "execution_count": 23,
     "metadata": {},
     "output_type": "execute_result"
    }
   ],
   "source": [
    "\n",
    "img = cv2.imread('original.png')\n",
    "gray = cv2.cvtColor(img, cv2.COLOR_BGR2GRAY)\n",
    "\n",
    "_, thresh_img = cv2.threshold(gray, 220, 255, cv2.THRESH_BINARY_INV)\n",
    "\n",
    "contours, hier_ = cv2.findContours(thresh_img, cv2.RETR_EXTERNAL, cv2.CHAIN_APPROX_NONE)\n",
    "\n",
    "for cnt in contours:\n",
    "    approx = cv2.approxPolyDP(cnt, 0.01 * cv2.arcLength(cnt, True), True)\n",
    "    area=cv2.contourArea(cnt)\n",
    "    # print(approx)\n",
    "\n",
    "    verticies=len(approx)\n",
    "    if verticies== 3:\n",
    "        cv2.drawContours(img, [cnt], -1, (0, 0, 255), 5) \n",
    "    elif verticies == 4:\n",
    "        cv2.drawContours(img, [cnt], -1, (0, 255, 0), 5) \n",
    "    elif verticies == 5:\n",
    "        cv2.drawContours(img, [cnt], -1, (255, 0, 0), 5)  \n",
    "    elif verticies==12 and area>4500 : \n",
    "        cv2.drawContours(img, [cnt], -1, (0, 255, 255), 5) \n",
    "    else:\n",
    "        cv2.drawContours(img, [cnt], -1, (255, 0, 0), 5)  \n",
    "# plt.imshow(img,cmap='gray')\n",
    "# plt.show()\n",
    "\n",
    "\n",
    "cv2.imwrite('output.png', img)\n"
   ]
  },
  {
   "cell_type": "code",
   "execution_count": null,
   "metadata": {},
   "outputs": [],
   "source": []
  }
 ],
 "metadata": {
  "kernelspec": {
   "display_name": "Python 3",
   "language": "python",
   "name": "python3"
  },
  "language_info": {
   "codemirror_mode": {
    "name": "ipython",
    "version": 3
   },
   "file_extension": ".py",
   "mimetype": "text/x-python",
   "name": "python",
   "nbconvert_exporter": "python",
   "pygments_lexer": "ipython3",
   "version": "3.11.8"
  }
 },
 "nbformat": 4,
 "nbformat_minor": 2
}
